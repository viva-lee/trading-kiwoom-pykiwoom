{
 "cells": [
  {
   "cell_type": "markdown",
   "metadata": {},
   "source": [
    "# 기능 확인을 위한 pykiwoom 테스트"
   ]
  },
  {
   "cell_type": "markdown",
   "metadata": {},
   "source": [
    "## 1. 로그인"
   ]
  },
  {
   "cell_type": "code",
   "execution_count": 2,
   "metadata": {},
   "outputs": [],
   "source": [
    "from pykiwoom.kiwoom import *"
   ]
  },
  {
   "cell_type": "code",
   "execution_count": 3,
   "metadata": {},
   "outputs": [
    {
     "name": "stdout",
     "output_type": "stream",
     "text": [
      "블록킹 로그인 완료\n"
     ]
    }
   ],
   "source": [
    "kiwoom = Kiwoom()\n",
    "kiwoom.CommConnect(block=True) \n",
    "\n",
    "# 로그인이 완료될 때까지 다음 줄의 코드 실행 X, ocx 방식 때의 eventloop와 같은 기능 \n",
    "print(\"블록킹 로그인 완료\")"
   ]
  },
  {
   "cell_type": "markdown",
   "metadata": {},
   "source": [
    "## 2. 사용자 정보 얻어오기"
   ]
  },
  {
   "cell_type": "code",
   "execution_count": 4,
   "metadata": {},
   "outputs": [],
   "source": [
    "# 전체 계좌 개수\n",
    "account_num = kiwoom.GetLoginInfo(\"ACCOUNT_CNT\")\n",
    "\n",
    "# 전체 계좌 목록\n",
    "accounts = kiwoom.GetLoginInfo(\"ACCNO\")\n",
    "\n",
    "# 사용자 ID\n",
    "user_id = kiwoom.GetLoginInfo(\"USER_ID\")\n",
    "\n",
    "# 사용자 이름\n",
    "user_name = kiwoom.GetLoginInfo(\"USER_NAME\")\n",
    "\n",
    "# 키보드보안 해지 여부(0: 정상, 1: 해지)\n",
    "keyboard = kiwoom.GetLoginInfo(\"KEY_BSECGB\")\n",
    "\n",
    "# 방화벽 설정 여부(0: 미설정, 1: 설정, 2: 해지)\n",
    "firewall = kiwoom.GetLoginInfo(\"FIREW_SECGB\")"
   ]
  }
 ],
 "metadata": {
  "kernelspec": {
   "display_name": "Python 3.7.13 ('py37_32')",
   "language": "python",
   "name": "python3"
  },
  "language_info": {
   "codemirror_mode": {
    "name": "ipython",
    "version": 3
   },
   "file_extension": ".py",
   "mimetype": "text/x-python",
   "name": "python",
   "nbconvert_exporter": "python",
   "pygments_lexer": "ipython3",
   "version": "3.7.13"
  },
  "orig_nbformat": 4,
  "vscode": {
   "interpreter": {
    "hash": "898be25d416f87d613ae8e3450b70b09d9110a2107dee78ea424a06cdf479292"
   }
  }
 },
 "nbformat": 4,
 "nbformat_minor": 2
}
