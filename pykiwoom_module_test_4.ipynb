{
 "cells": [
  {
   "cell_type": "markdown",
   "metadata": {},
   "source": [
    "# 실시간 프로그램 클론코딩"
   ]
  },
  {
   "cell_type": "code",
   "execution_count": 1,
   "metadata": {},
   "outputs": [],
   "source": [
    "import sys\n",
    "from PyQt5.QtWidgets import *\n",
    "from PyQt5.QAxContainer import *\n",
    "from PyQt5.QtGui import *\n",
    "from PyQt5.QtCore import *\n",
    "import datetime"
   ]
  },
  {
   "cell_type": "code",
   "execution_count": null,
   "metadata": {},
   "outputs": [],
   "source": [
    "class MyWindow(QMainWindow):\n",
    "    def __init__(self):\n",
    "        super().__init__()\n",
    "        self.setGeometry(300, 300, 400, 300)\n",
    "        self.setWindowTitle(\"실시간 프로그램\")\n",
    "        \n",
    "        self.range = None\n",
    "        self.target = None\n",
    "        self.account = None\n",
    "        self.amount = None\n",
    "        self.hold = None\n",
    "        \n",
    "        self.previous_day_hold = False\n",
    "        self.previous_day_quantity = False\n",
    "        \n",
    "        self.plain_text_edit = QPlainTextEdit(self)\n",
    "        self.plain_text_edit.setReadOnly(True)\n",
    "        self.plain_text_edit.move(10, 10)\n",
    "        self.plain_text_edit.resize(380, 280)\n",
    "        \n",
    "        self.ocx = QAxWidget(\"KHOPENAPI.KHOpenAPICtrl.1\")\n",
    "        self.ocx.OnEventConnect.connect(self._handler_login)\n",
    "        self.ocx.OnReceiveTrData.connect(self._handler_tr_data)\n",
    "        self.ocx.OnReceiveRealData.connect(self._handler_real_data)\n",
    "        self.ocx.OnReceiveChejanData.connect(self._handler_chejan_data)\n",
    "        \n",
    "        self.login_event_loop = QEventLoop()\n",
    "        self.CommConnect()\n",
    "        self.run()\n",
    "        \n",
    "    def CommConnect(self):\n",
    "        self.ocx.dynamicCall(\"CommConnect()\")\n",
    "        self.login_event_loop.exec()\n",
    "        \n",
    "    def run(self):\n",
    "        accounts = self.GetLoginInfo(\"ACCNO\")\n",
    "        self.account = accounts.split(\";\")[0]\n",
    "        print(self.account)\n",
    "        \n",
    "        # TR 요청\n",
    "        self.request_opt10081()\n",
    "        self.request_opw00001()\n",
    "        self.request_opw00004()\n",
    "        \n",
    "        # 실시간 주식체결\n",
    "        self.subscribe_market_time(\"1\")\n",
    "        self.subscribe_stock_conclusion(\"2\")\n",
    "        \n",
    "    def GetLoginInfo(self, tag):\n",
    "        data = self.ocx.dynamicCall(\"GetLoginInfo(QString)\", tag)\n",
    "        return data\n",
    "        \n",
    "        \n",
    "        \n",
    "        "
   ]
  }
 ],
 "metadata": {
  "kernelspec": {
   "display_name": "Python 3.7.13 ('py37_32')",
   "language": "python",
   "name": "python3"
  },
  "language_info": {
   "codemirror_mode": {
    "name": "ipython",
    "version": 3
   },
   "file_extension": ".py",
   "mimetype": "text/x-python",
   "name": "python",
   "nbconvert_exporter": "python",
   "pygments_lexer": "ipython3",
   "version": "3.7.13"
  },
  "orig_nbformat": 4,
  "vscode": {
   "interpreter": {
    "hash": "898be25d416f87d613ae8e3450b70b09d9110a2107dee78ea424a06cdf479292"
   }
  }
 },
 "nbformat": 4,
 "nbformat_minor": 2
}
