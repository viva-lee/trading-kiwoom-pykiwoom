{
 "cells": [
  {
   "cell_type": "markdown",
   "metadata": {},
   "source": [
    "## 1. 실시간"
   ]
  },
  {
   "cell_type": "code",
   "execution_count": 1,
   "metadata": {},
   "outputs": [
    {
     "name": "stdout",
     "output_type": "stream",
     "text": [
      "called\n",
      "\n"
     ]
    }
   ],
   "source": [
    "import sys\n",
    "from PyQt5.QtWidgets import *\n",
    "from PyQt5.QAxContainer import *\n",
    "import datetime\n",
    "\n",
    "class MyWindow(QMainWindow):\n",
    "    def __init__(self):\n",
    "        super().__init__()\n",
    "        self.setWindowTitle(\"Real\")\n",
    "        self.setGeometry(300, 300, 300, 400)\n",
    "\n",
    "        btn = QPushButton(\"Register\", self)\n",
    "        btn.move(20, 20)\n",
    "        btn.clicked.connect(self.btn_clicked)\n",
    "\n",
    "        btn2 = QPushButton(\"DisConnect\", self)\n",
    "        btn2.move(20, 100)\n",
    "        btn2.clicked.connect(self.btn2_clicked)\n",
    "\n",
    "        self.ocx = QAxWidget(\"KHOPENAPI.KHOpenAPICtrl.1\")\n",
    "        self.ocx.OnEventConnect.connect(self._handler_login)\n",
    "        self.ocx.OnReceiveRealData.connect(self._handler_real_data)\n",
    "        self.CommmConnect()\n",
    "\n",
    "    def btn_clicked(self):\n",
    "        self.SetRealReg(\"1000\", \"005930\", \"20;10\", 0) # 삼성전자,  체결시간, 현재가 구독 신청\n",
    "        # self.SetRealReg(\"2000\", \"\", \"215;20;214\", 0)\n",
    "        print(\"called\\n\")\n",
    "\n",
    "    def btn2_clicked(self):\n",
    "        self.DisConnectRealData(\"1000\")\n",
    "\n",
    "    def CommmConnect(self):\n",
    "        self.ocx.dynamicCall(\"CommConnect()\")\n",
    "        self.statusBar().showMessage(\"login 중 ...\")\n",
    "\n",
    "    def _handler_login(self, err_code):\n",
    "        if err_code == 0:\n",
    "            self.statusBar().showMessage(\"login 완료\")\n",
    "\n",
    "    def _handler_real_data(self, code, real_type, data):\n",
    "        print(code, real_type, data)\n",
    "        if real_type == \"장시작시간\":\n",
    "            gubun =  self.GetCommRealData(code, 215)\n",
    "            remained_time =  self.GetCommRealData(code, 214)\n",
    "            print(gubun, remained_time)\n",
    "            \n",
    "        elif real_type == \"주식체결\":\n",
    "            # 체결 시간\n",
    "            time = self.GetCommRealData(code, 20)\n",
    "            date = datetime.datetime.now().strftime(\"%Y-%m-%d \")\n",
    "            time = datetime.datetime.strptime(date + time, \"%Y-%m-%d %H%M%S\")\n",
    "            print(time, end=\" \")\n",
    "            \n",
    "            # 현재가\n",
    "            price = self.GetCommRealData(code, 10)\n",
    "            print(int(price))\n",
    "\n",
    "    # 실시간 API 등록\n",
    "    def SetRealReg(self, screen_no, code_list, fid_list, real_type):\n",
    "        self.ocx.dynamicCall(\"SetRealReg(QString, QString, QString, QString)\", screen_no, code_list, fid_list, real_type)\n",
    "\n",
    "    # 실시간 API 해제\n",
    "    def DisConnectRealData(self, screen_no):\n",
    "        self.ocx.dynamicCall(\"DisConnectRealData(QString)\", screen_no)\n",
    "\n",
    "    # 이벤트 발생 시 데이터 수신\n",
    "    def GetCommRealData(self, code, fid):\n",
    "        data = self.ocx.dynamicCall(\"GetCommRealData(QString, int)\", code, fid) \n",
    "        return data\n",
    "\n",
    "if __name__ == \"__main__\":\n",
    "    app = QApplication(sys.argv)\n",
    "    window = MyWindow()\n",
    "    window.show()\n",
    "    app.exec_()\n",
    "    "
   ]
  }
 ],
 "metadata": {
  "kernelspec": {
   "display_name": "Python 3.7.13 ('py37_32')",
   "language": "python",
   "name": "python3"
  },
  "language_info": {
   "codemirror_mode": {
    "name": "ipython",
    "version": 3
   },
   "file_extension": ".py",
   "mimetype": "text/x-python",
   "name": "python",
   "nbconvert_exporter": "python",
   "pygments_lexer": "ipython3",
   "version": "3.7.13"
  },
  "orig_nbformat": 4,
  "vscode": {
   "interpreter": {
    "hash": "41fd7d6dba8bd36a040c6d379dbccdd8da4659916f400a52deb4f18fc7e5e90b"
   }
  }
 },
 "nbformat": 4,
 "nbformat_minor": 2
}
