{
 "cells": [
  {
   "cell_type": "markdown",
   "metadata": {},
   "source": [
    "## 1. 실시간"
   ]
  },
  {
   "cell_type": "code",
   "execution_count": null,
   "metadata": {},
   "outputs": [
    {
     "ename": "",
     "evalue": "",
     "output_type": "error",
     "traceback": [
      "\u001b[1;31mRunning cells with 'Python 3.8.10 64-bit' requires ipykernel package.\n",
      "Run the following command to install 'ipykernel' into the Python environment. \n",
      "Command: 'c:/Users/phoen/AppData/Local/Programs/Python/Python38/python.exe -m pip install ipykernel -U --user --force-reinstall'"
     ]
    }
   ],
   "source": [
    "import sys\n",
    "from PyQt5.QtWidgets import *\n",
    "from PyQt5.QAxContainer import *\n",
    "import datetime\n",
    "\n",
    "class MyWindow(QMainWindow):\n",
    "    def __init__(self):\n",
    "        super().__init__()\n",
    "        self.setWindowTitle(\"Realtime\")\n",
    "        self.setGeometry(300, 300, 300, 400)\n",
    "        \n",
    "        btn = QPushButton(\"Register\", self)\n",
    "        btn.move(20, 20)\n",
    "        btn.clicked.connect(self.btn_clicked)\n",
    "        \n",
    "        btn2 = QPushButton(\"DisConnect\", self)\n",
    "        btn2.move(20, 100)\n",
    "        btn2.clicked.connect(self.btn2_clicked)\n",
    "        \n",
    "        self.ocx = QAxWidget(\"KHOPENAPI.KHOpenAPICtrl.1\")\n",
    "        self.ocx.OnEventConnect.connect(self._handler_login)\n",
    "        self.ocx.OnReceiveRealData.connect(self._handler_real_data)\n",
    "        self.CommConnect()\n",
    "        \n",
    "    def btn_clicked(self):\n",
    "        self.SetRealReg(\"2000\", \"\", \"215;20;214\", 0)\n",
    "        print(\"called\\n\")"
   ]
  }
 ],
 "metadata": {
  "kernelspec": {
   "display_name": "Python 3.7.13 ('py37_32')",
   "language": "python",
   "name": "python3"
  },
  "language_info": {
   "name": "python",
   "version": "3.7.13"
  },
  "orig_nbformat": 4,
  "vscode": {
   "interpreter": {
    "hash": "41fd7d6dba8bd36a040c6d379dbccdd8da4659916f400a52deb4f18fc7e5e90b"
   }
  }
 },
 "nbformat": 4,
 "nbformat_minor": 2
}
