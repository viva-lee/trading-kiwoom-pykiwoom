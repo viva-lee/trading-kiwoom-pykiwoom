{
 "cells": [
  {
   "cell_type": "markdown",
   "metadata": {},
   "source": [
    "# 기능 확인을 위한 pykiwoom 테스트"
   ]
  },
  {
   "cell_type": "markdown",
   "metadata": {},
   "source": [
    "## 1. 로그인"
   ]
  },
  {
   "cell_type": "code",
   "execution_count": 1,
   "metadata": {},
   "outputs": [],
   "source": [
    "from pykiwoom.kiwoom import *"
   ]
  },
  {
   "cell_type": "code",
   "execution_count": 2,
   "metadata": {},
   "outputs": [
    {
     "name": "stdout",
     "output_type": "stream",
     "text": [
      "블록킹 로그인 완료\n"
     ]
    }
   ],
   "source": [
    "kiwoom = Kiwoom()\n",
    "kiwoom.CommConnect(block=True) \n",
    "\n",
    "# 로그인이 완료될 때까지 다음 줄의 코드 실행 X, ocx 방식 때의 eventloop와 같은 기능 \n",
    "print(\"블록킹 로그인 완료\")"
   ]
  },
  {
   "cell_type": "markdown",
   "metadata": {},
   "source": [
    "## 2. 사용자 정보 얻어오기"
   ]
  },
  {
   "cell_type": "code",
   "execution_count": 3,
   "metadata": {},
   "outputs": [],
   "source": [
    "# 전체 계좌 개수\n",
    "account_num = kiwoom.GetLoginInfo(\"ACCOUNT_CNT\")\n",
    "\n",
    "# 전체 계좌 목록\n",
    "accounts = kiwoom.GetLoginInfo(\"ACCNO\")\n",
    "\n",
    "# 사용자 ID\n",
    "user_id = kiwoom.GetLoginInfo(\"USER_ID\")\n",
    "\n",
    "# 사용자 이름\n",
    "user_name = kiwoom.GetLoginInfo(\"USER_NAME\")\n",
    "\n",
    "# 키보드보안 해지 여부(0: 정상, 1: 해지)\n",
    "keyboard = kiwoom.GetLoginInfo(\"KEY_BSECGB\")\n",
    "\n",
    "# 방화벽 설정 여부(0: 미설정, 1: 설정, 2: 해지)\n",
    "firewall = kiwoom.GetLoginInfo(\"FIREW_SECGB\")"
   ]
  },
  {
   "cell_type": "markdown",
   "metadata": {},
   "source": [
    "## 3. 종목 코드 얻기"
   ]
  },
  {
   "cell_type": "code",
   "execution_count": 9,
   "metadata": {},
   "outputs": [
    {
     "name": "stdout",
     "output_type": "stream",
     "text": [
      "kospi : 1837개\n",
      " ['000020', '000040', '000050', '000060', '000070', '000075', '000080', '000087', '000100', '000105']\n",
      "kosdaq : 1574개\n",
      " ['900110', '900270', '900260', '900290', '900300', '900310', '900340', '000250', '000440', '001000']\n"
     ]
    }
   ],
   "source": [
    "kospi = kiwoom.GetCodeListByMarket(\"0\")\n",
    "kosdaq = kiwoom.GetCodeListByMarket(\"10\")\n",
    "\n",
    "print(\"kospi : \" + str(len(kospi)) + \"개\\n\", kospi[:10])\n",
    "print(\"kosdaq : \" + str(len(kosdaq)) + \"개\\n\", kosdaq[:10])"
   ]
  },
  {
   "cell_type": "markdown",
   "metadata": {},
   "source": [
    "## 4. 종목명 얻기"
   ]
  },
  {
   "cell_type": "code",
   "execution_count": 10,
   "metadata": {},
   "outputs": [
    {
     "name": "stdout",
     "output_type": "stream",
     "text": [
      "삼성전자\n"
     ]
    }
   ],
   "source": [
    "name = kiwoom.GetMasterCodeName(\"005930\")\n",
    "print(name)"
   ]
  },
  {
   "cell_type": "code",
   "execution_count": 12,
   "metadata": {},
   "outputs": [
    {
     "name": "stdout",
     "output_type": "stream",
     "text": [
      "['동화약품', 'KR모터스', '경방', '메리츠화재', '삼양홀딩스', '삼양홀딩스우', '하이트진로', '하이트진로2우B', '유한양행', '유한양행우']\n"
     ]
    }
   ],
   "source": [
    "names = []\n",
    "for i in kospi:\n",
    "    name = kiwoom.GetMasterCodeName(i)\n",
    "    names.append(name)\n",
    "\n",
    "print(names[:10])"
   ]
  },
  {
   "cell_type": "markdown",
   "metadata": {},
   "source": [
    "## 5. 연결 상태 확인"
   ]
  },
  {
   "cell_type": "code",
   "execution_count": 13,
   "metadata": {},
   "outputs": [
    {
     "name": "stdout",
     "output_type": "stream",
     "text": [
      "연결\n"
     ]
    }
   ],
   "source": [
    "state = kiwoom.GetConnectState()\n",
    "if state == 0:\n",
    "    print(\"미연결\")\n",
    "elif state == 1:\n",
    "    print(\"연결\")"
   ]
  },
  {
   "cell_type": "markdown",
   "metadata": {},
   "source": [
    "## 6. 테마 확인"
   ]
  },
  {
   "cell_type": "code",
   "execution_count": 20,
   "metadata": {},
   "outputs": [
    {
     "name": "stdout",
     "output_type": "stream",
     "text": [
      "{'2차전지_소재(양극화물질등)': '141', '2차전지_완제품': '140', 'AMOLED_소재': '571', 'AMOLED_장비': '570', 'Cheap-Chic_저가실용품': '830', 'FPCB(연성회로기판)': '501', 'LCD_부품': '562', 'LCD_소재': '561', 'LCD_장비': '560', 'LED': '572', 'LPG(액화석유가스)': '600', 'PCB(인쇄회로기판)': '500', 'SI(시스템통합)': '458', 'SNS(Social Network Service)': '452', 'U-헬스케어': '353', '가구': '250', '강관': '170', '거푸집': '202', '건강식품': '319', '건설_국내주택': '201', '건설_해외건설': '200', '게임_모바일': '471', '게임_온라인': '470', '곡물가공품_설탕/밀가루/유지': '312', '교육': '270', '그린카_하이브리드카/전기차': '245', '금형/몰드베이스': '160', '기계_건설기계': '210', '기계_공작기계': '211', '네트워크/광통신': '480', '도시가스': '610', '라면': '316', '로봇_지능형': '213', '모바일솔루션': '456', '무선충전기관련주': '517', '미디어_디지털방송전환': '281', '미디어_방송광고': '280', '바이오_디젤/에탄올': '130', '바이오_바이오시밀러/베터': '360', '바이오_유전체분석': '363', '바이오_줄기세포치료제': '361', '바이오_진단/백신': '362', '반도체_생산': '550', '반도체_설계(fabless)': '551', '반도체_시스템반도체': '557', '반도체_전공정소재': '556', '반도체_전공정장비': '555', '반도체_후공정': '552', '반도체_후공정소재': '554', '반도체_후공정장비': '553', '방위산업': '212', '배합사료': '313', '백화점': '290', '보안_인터넷': '453', '보험_생명보험': '420', '보험_손해보험': '421', '부탄가스': '611', '비철금속주': '171', '빙과': '315', '셋톱박스': '530', '소프트웨어_자동차용': '459', '수산물/수산가공품': '310', '슈퍼박테리아': '364', '스마트 그리드': '810', '스마트폰_삼성전자관련주': '515', '스마트폰_애플 관련주': '516', '시멘트': '203', '식자재유통': '318', '신약개발/기술수출': '370', '에니메이션': '286', '엔젤산업': '820', '엔지니어링 플라스틱': '154', '여행': '261', '온실가스배출저감': '800', '우주항공': '214', '운송_육상운송': '232', '운송_항공': '230', '운송_해운': '231', '원자력_기자재': '110', '원자력_설계시공': '111', '유가공': '314', '육계': '311', '은행': '400', '의료기기': '351', '의료기기_안과': '352', '의료기기_치아': '350', '의복_OEM': '256', '의복_아웃도어': '255', '자동차_블랙박스관련주': '242', '자동차_전장화 수혜': '241', '자동차_차량경량화 수혜': '240', '자동차_차량용 반도체': '243', '자원개발 E&P': '215', '전기자전거': '262', '전자결제': '454', '전자결제_B2B': '455', '전자책_e-book': '450', '제과스낵': '317', '제지_골판지': '180', '제지_기타': '181', '조선_Eco선': '223', '조선_LNG보냉재': '220', '조선_해양플랜트': '222', '조선_해양플랜트기자재': '221', '주류': '300', '중국_내수소비 확대': '910', '증권': '430', '창투': '410', '카지노': '260', '컨텐츠_메니지먼트': '284', '컨텐츠_영상': '282', '컨텐츠_음원': '283', '컨텐츠_한류': '285', '컴퓨터전화통합(CTI)': '451', '코스닥_라이징스타': '920', '코스닥_히든챔피언': '900', '클라우드 컴퓨팅': '457', '타이어': '244', '탄소섬유': '153', '태블릿 PC': '520', '태양광_발전/설치/운영': '103', '태양광_부품/소재/장비': '102', '태양광_잉곳/웨이퍼/셀/모듈': '101', '태양광_폴리실리콘': '100', '통신장비': '481', '폐기물처리': '850', '풍력_단조/기자재': '121', '합금철': '172', '합성고무': '152', '합성섬유_원료': '151', '합성수지': '150', '홈쇼핑': '291', '화력_발전기자재': '120', '화장품': '330', '환경산업': '840', '휴대폰_RF부품': '511', '휴대폰_베트남현지법인': '518', '휴대폰_수동부품': '510', '휴대폰_카메라': '514', '휴대폰_케이스/기구물': '513', '휴대폰_터치스크린': '512', '희소금속': '173'}\n"
     ]
    }
   ],
   "source": [
    "group = kiwoom.GetThemeGroupList()\n",
    "\n",
    "print(group)"
   ]
  },
  {
   "cell_type": "code",
   "execution_count": 23,
   "metadata": {},
   "outputs": [
    {
     "name": "stdout",
     "output_type": "stream",
     "text": [
      "004000 롯데정밀화학\n",
      "009830 한화솔루션\n",
      "078930 GS\n",
      "005420 코스모화학\n",
      "005070 코스모신소재\n",
      "066970 엘앤에프\n",
      "102710 이엔에프테크놀로지\n",
      "036830 솔브레인홀딩스\n",
      "161000 애경케미칼\n",
      "093370 후성\n",
      "047310 파워로직스\n",
      "054210 이랜텍\n",
      "131100 스카이이앤엠\n",
      "131390 원익피앤이\n",
      "091580 상신이디피\n"
     ]
    }
   ],
   "source": [
    "tickers = kiwoom.GetThemeGroupCode(\"141\")\n",
    "\n",
    "for i in tickers:\n",
    "    name = kiwoom.GetMasterCodeName(i)\n",
    "    print(i, name)"
   ]
  },
  {
   "cell_type": "markdown",
   "metadata": {},
   "source": [
    "## 7. 조건검색식"
   ]
  },
  {
   "cell_type": "code",
   "execution_count": 24,
   "metadata": {},
   "outputs": [],
   "source": [
    "# 조건식 다운로드\n",
    "kiwoom.GetConditionLoad()"
   ]
  },
  {
   "cell_type": "code",
   "execution_count": 30,
   "metadata": {},
   "outputs": [
    {
     "name": "stdout",
     "output_type": "stream",
     "text": [
      "저평가주 001\n"
     ]
    }
   ],
   "source": [
    "\n",
    "# 조건식 목록\n",
    "conditions = kiwoom.GetConditionNameList()\n",
    "condition_index = conditions[1][0]\n",
    "condition_name = conditions[1][1]\n",
    "print(condition_name, condition_index)"
   ]
  },
  {
   "cell_type": "code",
   "execution_count": 31,
   "metadata": {},
   "outputs": [
    {
     "name": "stdout",
     "output_type": "stream",
     "text": [
      "['900290', '900340', '000590', '001940', '002030', '002170', '002310', '003200', '003650', '004560', '005010', '005490', '005810', '006200', '007680', '007690', '009160', '009970', '011200', '011780', '013120', '016090', '017480', '017650', '020000', '023600', '024830', '029460', '032560', '036530', '037710', '039340', '042420', '058430', '068790', '072870', '084010', '084650', '093050', '093190', '096530', '104700', '108320', '111770', '137310', '187870', '192080', '192440', '205470', '208140', '264450', '284740', '352700', '375500', '950130', '900280']\n"
     ]
    }
   ],
   "source": [
    "# 1번 조건식에 해당하는 종목 리스트\n",
    "codes = kiwoom.SendCondition(\"0101\", condition_name, condition_index, 0)\n",
    "print(codes)"
   ]
  },
  {
   "cell_type": "markdown",
   "metadata": {},
   "source": [
    "## 8. 매수 & 매도"
   ]
  },
  {
   "cell_type": "code",
   "execution_count": 33,
   "metadata": {},
   "outputs": [],
   "source": [
    "# 주문은 1초에 최대 5번 가능\n",
    "\n",
    "# 계좌번호\n",
    "accounts = kiwoom.GetLoginInfo(\"ACCNO\")\n",
    "stock_account = accounts[0]"
   ]
  },
  {
   "cell_type": "code",
   "execution_count": null,
   "metadata": {},
   "outputs": [],
   "source": [
    "# 삼성전자, 10주, 시장가주문 매수\n",
    "kiwoom.SendOrder(\"시장가매수\", \"0101\", stock_account, 1, \"005930\", 10, 0, \"03\", \"\")"
   ]
  },
  {
   "cell_type": "code",
   "execution_count": null,
   "metadata": {},
   "outputs": [],
   "source": [
    "# 삼성전자, 10주, 시장가주문 매도\n",
    "kiwoom.SendOrder(\"시장가매도\", \"0101\", stock_account, 2, \"005930\", 10, 0, \"03\", \"\")"
   ]
  }
 ],
 "metadata": {
  "kernelspec": {
   "display_name": "Python 3.7.13 ('py37_32')",
   "language": "python",
   "name": "python3"
  },
  "language_info": {
   "codemirror_mode": {
    "name": "ipython",
    "version": 3
   },
   "file_extension": ".py",
   "mimetype": "text/x-python",
   "name": "python",
   "nbconvert_exporter": "python",
   "pygments_lexer": "ipython3",
   "version": "3.7.13"
  },
  "orig_nbformat": 4,
  "vscode": {
   "interpreter": {
    "hash": "898be25d416f87d613ae8e3450b70b09d9110a2107dee78ea424a06cdf479292"
   }
  }
 },
 "nbformat": 4,
 "nbformat_minor": 2
}
